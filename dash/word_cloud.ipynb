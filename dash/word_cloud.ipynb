{
 "cells": [
  {
   "cell_type": "code",
   "execution_count": null,
   "metadata": {},
   "outputs": [],
   "source": [
    "from wordcloud import WordCloud\n",
    "import nltk\n",
    "nltk.download('stopwords')\n",
    "from nltk.corpus import stopwords \n",
    "from scripts import preprocess_for_ML_pyspark \n",
    "import os\n",
    "\n",
    "def word_cloud(title = 'Babylon') :\n",
    "\n",
    "    \"\"\" fonction qui permet de créer un word cloud à partir des avis des films \"\"\"\n",
    "\n",
    "    # read data\n",
    "    df = preprocess_for_ML_pyspark.preproces_for_machine_learning()\n",
    "\n",
    "    # stop word \n",
    "    stop_words = set(stopwords.words('french'))\n",
    "    \n",
    "    # ajout des mots vides\n",
    "    mots_vides = [\"film\", \"\\n\",\"plus\",\"a\",\"sans\",\"dans\",\"sans\",\"cette\",'cet', \"jour\",\"encore\",\"fait\",\"comme\",\"un\",\"très\", \"tous\",\"tout\",\"cest\",\"si\",\n",
    "    \"cela\", 'peut',  \"être\", \"aussi\", \"mais\",\"par\",\"dont\", \"moi\", \"il\", \"toi\", 'ils', \"les\",'quoi', \"ca\"] \n",
    "    stop_words.update(mots_vides) \n",
    "\n",
    "    # Filter the dataframe by title\n",
    "    df = df.filter(df.titre == title)\n",
    "\n",
    "    # Concatenate the 'avis' column values into a single string\n",
    "    avis_string = ' '.join(df.select(\"avis\").rdd.flatMap(lambda x: x).collect())\n",
    "\n",
    "    # Définir le calque du nuage des mots\n",
    "    wc = WordCloud(background_color=\"black\", max_words=30, stopwords=stop_words, max_font_size=100, random_state=42)\n",
    "    wc.generate(avis_string)  # \"Calcul\" du wordcloud\n",
    "\n",
    "    # Obtenir un objet Image à partir de wc\n",
    "    image = wc.to_image()\n",
    "    # Enregistrer l'image en utilisant la méthode save de l'objet Image\n",
    "\n",
    "    if not os.path.exists(\"./data\"):\n",
    "        os.mkdir(\"./data\") \n",
    "\n",
    "    image.save(r'./data/word_cloud.png') \n",
    "\n",
    "    return wc.words_ \n",
    "\n",
    "if __name__ =='__main__' : \n",
    "    word_cloud() \n",
    "\n"
   ]
  }
 ],
 "metadata": {
  "kernelspec": {
   "display_name": "Python 3",
   "language": "python",
   "name": "python3"
  },
  "language_info": {
   "name": "python",
   "version": "3.10.4"
  },
  "orig_nbformat": 4,
  "vscode": {
   "interpreter": {
    "hash": "3ad933181bd8a04b432d3370b9dc3b0662ad032c4dfaa4e4f1596c548f763858"
   }
  }
 },
 "nbformat": 4,
 "nbformat_minor": 2
}
