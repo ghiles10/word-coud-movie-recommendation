{
 "cells": [
  {
   "cell_type": "code",
   "execution_count": 43,
   "metadata": {},
   "outputs": [],
   "source": [
    "# import modules\n",
    "import sys\n",
    "sys.path.append(r\"./scripts\")\n",
    "import findspark\n",
    "from pyspark.sql import SparkSession\n",
    "import pandas as pd\n",
    "import warnings\n",
    "warnings.filterwarnings(\"ignore\")\n",
    "import re"
   ]
  },
  {
   "cell_type": "code",
   "execution_count": 44,
   "metadata": {},
   "outputs": [],
   "source": [
    "findspark.init()\n",
    "spark_session = SparkSession.builder.appName('data_film').master(\"local[*]\").getOrCreate()\n"
   ]
  },
  {
   "cell_type": "code",
   "execution_count": 45,
   "metadata": {},
   "outputs": [
    {
     "name": "stdout",
     "output_type": "stream",
     "text": [
      "debut scrapping\n",
      "extracting data done\n"
     ]
    }
   ],
   "source": [
    "# générer les données\n",
    "from scripts import write_to_txt\n",
    "write_to_txt.extract_data()"
   ]
  },
  {
   "cell_type": "code",
   "execution_count": 46,
   "metadata": {},
   "outputs": [],
   "source": [
    "data = spark_session.read.option(\"delimiter\", \"\\t\").csv('data/data_film.txt', header=False)\n",
    "data = data.toDF('titre', 'date', 'duree', 'type', 'note', 'nombre avis', 'avis')"
   ]
  },
  {
   "cell_type": "markdown",
   "metadata": {},
   "source": [
    "# Preprocess"
   ]
  },
  {
   "cell_type": "code",
   "execution_count": 47,
   "metadata": {},
   "outputs": [],
   "source": [
    "from scripts import preprocess_for_ML_pyspark\n",
    "\n",
    "data = preprocess_for_ML_pyspark.preproces_for_machine_learning(data, spark_session)"
   ]
  },
  {
   "cell_type": "code",
   "execution_count": 48,
   "metadata": {},
   "outputs": [
    {
     "name": "stdout",
     "output_type": "stream",
     "text": [
      "root\n",
      " |-- titre: string (nullable = true)\n",
      " |-- date: date (nullable = true)\n",
      " |-- duree: string (nullable = true)\n",
      " |-- type: string (nullable = true)\n",
      " |-- note: string (nullable = true)\n",
      " |-- nombre avis: string (nullable = true)\n",
      " |-- avis: string (nullable = true)\n",
      "\n"
     ]
    }
   ],
   "source": [
    "\n",
    "data.printSchema()"
   ]
  },
  {
   "cell_type": "code",
   "execution_count": 49,
   "metadata": {},
   "outputs": [
    {
     "name": "stdout",
     "output_type": "stream",
     "text": [
      "+--------------------+----------+-----+--------------------+----+-----------+--------------------+\n",
      "|               titre|      date|duree|                type|note|nombre avis|                avis|\n",
      "+--------------------+----------+-----+--------------------+----+-----------+--------------------+\n",
      "|Le Chat Potté 2 :...|2022-12-07|    1|Animation Comédie...| 4.1|         91|\\nJe m\\étais un p...|\n",
      "|Le Royaume des ét...|2022-12-07|    1|Animation Famille...| 2.7|         14|\\nJai beaucoup ai...|\n",
      "|             Le Menu|2022-11-23|    1|            Thriller| 3.4|        175|\\nHors d\\oeuvre:U...|\n",
      "|  Les Bonnes étoiles|2022-12-07|    2|               Drame| 3.8|         76|\\nUne très sympat...|\n",
      "+--------------------+----------+-----+--------------------+----+-----------+--------------------+\n",
      "only showing top 4 rows\n",
      "\n"
     ]
    }
   ],
   "source": [
    "data.show(4)"
   ]
  },
  {
   "cell_type": "code",
   "execution_count": 50,
   "metadata": {},
   "outputs": [],
   "source": [
    "###########################################################################"
   ]
  },
  {
   "cell_type": "code",
   "execution_count": 51,
   "metadata": {},
   "outputs": [],
   "source": [
    "import pandas as pd\n",
    "import matplotlib.pyplot as plt\n",
    "import seaborn as sns\n",
    "data_pandas = data.toPandas()"
   ]
  },
  {
   "cell_type": "code",
   "execution_count": 52,
   "metadata": {},
   "outputs": [
    {
     "data": {
      "text/html": [
       "<div>\n",
       "<style scoped>\n",
       "    .dataframe tbody tr th:only-of-type {\n",
       "        vertical-align: middle;\n",
       "    }\n",
       "\n",
       "    .dataframe tbody tr th {\n",
       "        vertical-align: top;\n",
       "    }\n",
       "\n",
       "    .dataframe thead th {\n",
       "        text-align: right;\n",
       "    }\n",
       "</style>\n",
       "<table border=\"1\" class=\"dataframe\">\n",
       "  <thead>\n",
       "    <tr style=\"text-align: right;\">\n",
       "      <th></th>\n",
       "      <th>titre</th>\n",
       "      <th>date</th>\n",
       "      <th>duree</th>\n",
       "      <th>type</th>\n",
       "      <th>note</th>\n",
       "      <th>nombre avis</th>\n",
       "      <th>avis</th>\n",
       "    </tr>\n",
       "  </thead>\n",
       "  <tbody>\n",
       "    <tr>\n",
       "      <th>0</th>\n",
       "      <td>Le Chat Potté 2 : la dernière quête</td>\n",
       "      <td>2022-12-07</td>\n",
       "      <td>1</td>\n",
       "      <td>Animation Comédie Aventure Famille</td>\n",
       "      <td>4.1</td>\n",
       "      <td>91</td>\n",
       "      <td>\\nJe m\\étais un peu lassé du style de Dreamwor...</td>\n",
       "    </tr>\n",
       "    <tr>\n",
       "      <th>1</th>\n",
       "      <td>Le Royaume des étoiles</td>\n",
       "      <td>2022-12-07</td>\n",
       "      <td>1</td>\n",
       "      <td>Animation Famille Aventure</td>\n",
       "      <td>2.7</td>\n",
       "      <td>14</td>\n",
       "      <td>\\nJai beaucoup aimé ce film !Cest pour les plu...</td>\n",
       "    </tr>\n",
       "    <tr>\n",
       "      <th>2</th>\n",
       "      <td>Le Menu</td>\n",
       "      <td>2022-11-23</td>\n",
       "      <td>1</td>\n",
       "      <td>Thriller</td>\n",
       "      <td>3.4</td>\n",
       "      <td>175</td>\n",
       "      <td>\\nHors d\\oeuvre:Un intrigant et mystérieux thr...</td>\n",
       "    </tr>\n",
       "    <tr>\n",
       "      <th>3</th>\n",
       "      <td>Les Bonnes étoiles</td>\n",
       "      <td>2022-12-07</td>\n",
       "      <td>2</td>\n",
       "      <td>Drame</td>\n",
       "      <td>3.8</td>\n",
       "      <td>76</td>\n",
       "      <td>\\nUne très sympathique comédie sociale que ce ...</td>\n",
       "    </tr>\n",
       "    <tr>\n",
       "      <th>4</th>\n",
       "      <td>Avatar : la voie de l'eau</td>\n",
       "      <td>2022-12-14</td>\n",
       "      <td>3</td>\n",
       "      <td>Science fiction Aventure Fantastique Action</td>\n",
       "      <td>4.4</td>\n",
       "      <td>081</td>\n",
       "      <td>\\nEnfin de retour sur Pandora treize ans après...</td>\n",
       "    </tr>\n",
       "    <tr>\n",
       "      <th>5</th>\n",
       "      <td>Avatar</td>\n",
       "      <td>2009-12-16</td>\n",
       "      <td>2</td>\n",
       "      <td>Science fiction Aventure</td>\n",
       "      <td>4.3</td>\n",
       "      <td>896</td>\n",
       "      <td>\\nPas trop friand de ce genre de film vu en fa...</td>\n",
       "    </tr>\n",
       "    <tr>\n",
       "      <th>6</th>\n",
       "      <td>Mon héroïne</td>\n",
       "      <td>2022-12-14</td>\n",
       "      <td>1</td>\n",
       "      <td>Comédie</td>\n",
       "      <td>3.2</td>\n",
       "      <td>85</td>\n",
       "      <td>\\nFilm très fin et très drôle, servi par des a...</td>\n",
       "    </tr>\n",
       "    <tr>\n",
       "      <th>7</th>\n",
       "      <td>Les Huit Montagnes</td>\n",
       "      <td>2022-12-21</td>\n",
       "      <td>2</td>\n",
       "      <td>Drame</td>\n",
       "      <td>3.8</td>\n",
       "      <td>18</td>\n",
       "      <td>\\nComme c’était déjà le cas avec Alabama Monro...</td>\n",
       "    </tr>\n",
       "    <tr>\n",
       "      <th>8</th>\n",
       "      <td>Le Torrent</td>\n",
       "      <td>2022-11-30</td>\n",
       "      <td>1</td>\n",
       "      <td>Thriller</td>\n",
       "      <td>3.1</td>\n",
       "      <td>145</td>\n",
       "      <td>\\nCe nest pas un film policier mais un drame p...</td>\n",
       "    </tr>\n",
       "    <tr>\n",
       "      <th>9</th>\n",
       "      <td>Reste un peu</td>\n",
       "      <td>2022-11-16</td>\n",
       "      <td>1</td>\n",
       "      <td>Comédie</td>\n",
       "      <td>3.4</td>\n",
       "      <td>325</td>\n",
       "      <td>\\nPeut-on apprécier Reste un peu si lon na pas...</td>\n",
       "    </tr>\n",
       "    <tr>\n",
       "      <th>10</th>\n",
       "      <td>Tempête</td>\n",
       "      <td>2022-12-21</td>\n",
       "      <td>1</td>\n",
       "      <td>Comédie dramatique Famille</td>\n",
       "      <td>3.8</td>\n",
       "      <td>57</td>\n",
       "      <td>\\nPrès de  ans après Jappeloup, Christian Dugu...</td>\n",
       "    </tr>\n",
       "    <tr>\n",
       "      <th>11</th>\n",
       "      <td>Ernest et Célestine : le voyage en Charabie</td>\n",
       "      <td>2022-12-14</td>\n",
       "      <td>1</td>\n",
       "      <td>Animation Famille</td>\n",
       "      <td>4.2</td>\n",
       "      <td>16</td>\n",
       "      <td>\\nDix ans après son beau succès,  Ernest et Cé...</td>\n",
       "    </tr>\n",
       "    <tr>\n",
       "      <th>12</th>\n",
       "      <td>Fumer fait tousser</td>\n",
       "      <td>2022-11-30</td>\n",
       "      <td>1</td>\n",
       "      <td>Comédie</td>\n",
       "      <td>2.8</td>\n",
       "      <td>159</td>\n",
       "      <td>\\nFranchement assez décevant, on ne va pas se ...</td>\n",
       "    </tr>\n",
       "    <tr>\n",
       "      <th>13</th>\n",
       "      <td>Annie Colère</td>\n",
       "      <td>2022-11-30</td>\n",
       "      <td>2</td>\n",
       "      <td>Comédie dramatique</td>\n",
       "      <td>4.0</td>\n",
       "      <td>92</td>\n",
       "      <td>\\nDe Blandine Lenoir, lon se souvenait de Auro...</td>\n",
       "    </tr>\n",
       "    <tr>\n",
       "      <th>14</th>\n",
       "      <td>Falcon Lake</td>\n",
       "      <td>2022-12-07</td>\n",
       "      <td>1</td>\n",
       "      <td>Comédie dramatique Romance</td>\n",
       "      <td>3.8</td>\n",
       "      <td>34</td>\n",
       "      <td>\\nQuinzaine des Réalisateurs : Quel beau premi...</td>\n",
       "    </tr>\n",
       "  </tbody>\n",
       "</table>\n",
       "</div>"
      ],
      "text/plain": [
       "                                          titre        date duree  \\\n",
       "0           Le Chat Potté 2 : la dernière quête  2022-12-07     1   \n",
       "1                        Le Royaume des étoiles  2022-12-07     1   \n",
       "2                                       Le Menu  2022-11-23     1   \n",
       "3                            Les Bonnes étoiles  2022-12-07     2   \n",
       "4                     Avatar : la voie de l'eau  2022-12-14     3   \n",
       "5                                        Avatar  2009-12-16     2   \n",
       "6                                   Mon héroïne  2022-12-14     1   \n",
       "7                            Les Huit Montagnes  2022-12-21     2   \n",
       "8                                    Le Torrent  2022-11-30     1   \n",
       "9                                  Reste un peu  2022-11-16     1   \n",
       "10                                      Tempête  2022-12-21     1   \n",
       "11  Ernest et Célestine : le voyage en Charabie  2022-12-14     1   \n",
       "12                           Fumer fait tousser  2022-11-30     1   \n",
       "13                                 Annie Colère  2022-11-30     2   \n",
       "14                                  Falcon Lake  2022-12-07     1   \n",
       "\n",
       "                                           type note nombre avis  \\\n",
       "0            Animation Comédie Aventure Famille  4.1          91   \n",
       "1                    Animation Famille Aventure  2.7          14   \n",
       "2                                      Thriller  3.4         175   \n",
       "3                                         Drame  3.8          76   \n",
       "4   Science fiction Aventure Fantastique Action  4.4         081   \n",
       "5                      Science fiction Aventure  4.3         896   \n",
       "6                                       Comédie  3.2          85   \n",
       "7                                         Drame  3.8          18   \n",
       "8                                      Thriller  3.1         145   \n",
       "9                                       Comédie  3.4         325   \n",
       "10                   Comédie dramatique Famille  3.8          57   \n",
       "11                            Animation Famille  4.2          16   \n",
       "12                                      Comédie  2.8         159   \n",
       "13                           Comédie dramatique  4.0          92   \n",
       "14                   Comédie dramatique Romance  3.8          34   \n",
       "\n",
       "                                                 avis  \n",
       "0   \\nJe m\\étais un peu lassé du style de Dreamwor...  \n",
       "1   \\nJai beaucoup aimé ce film !Cest pour les plu...  \n",
       "2   \\nHors d\\oeuvre:Un intrigant et mystérieux thr...  \n",
       "3   \\nUne très sympathique comédie sociale que ce ...  \n",
       "4   \\nEnfin de retour sur Pandora treize ans après...  \n",
       "5   \\nPas trop friand de ce genre de film vu en fa...  \n",
       "6   \\nFilm très fin et très drôle, servi par des a...  \n",
       "7   \\nComme c’était déjà le cas avec Alabama Monro...  \n",
       "8   \\nCe nest pas un film policier mais un drame p...  \n",
       "9   \\nPeut-on apprécier Reste un peu si lon na pas...  \n",
       "10  \\nPrès de  ans après Jappeloup, Christian Dugu...  \n",
       "11  \\nDix ans après son beau succès,  Ernest et Cé...  \n",
       "12  \\nFranchement assez décevant, on ne va pas se ...  \n",
       "13  \\nDe Blandine Lenoir, lon se souvenait de Auro...  \n",
       "14  \\nQuinzaine des Réalisateurs : Quel beau premi...  "
      ]
     },
     "execution_count": 52,
     "metadata": {},
     "output_type": "execute_result"
    }
   ],
   "source": [
    "data_pandas"
   ]
  },
  {
   "cell_type": "markdown",
   "metadata": {},
   "source": [
    "# stat desc"
   ]
  },
  {
   "cell_type": "code",
   "execution_count": 53,
   "metadata": {},
   "outputs": [
    {
     "data": {
      "text/plain": [
       "<AxesSubplot: xlabel='type', ylabel='count'>"
      ]
     },
     "execution_count": 53,
     "metadata": {},
     "output_type": "execute_result"
    },
    {
     "data": {
      "image/png": "[encoded data removed]",
      "text/plain": [
       "<Figure size 640x480 with 1 Axes>"
      ]
     },
     "metadata": {},
     "output_type": "display_data"
    }
   ],
   "source": [
    "plt.xticks(rotation= 'vertical')\n",
    "sns.countplot(x =data_pandas['type'])"
   ]
  },
  {
   "cell_type": "code",
   "execution_count": null,
   "metadata": {},
   "outputs": [],
   "source": []
  },
  {
   "cell_type": "code",
   "execution_count": null,
   "metadata": {},
   "outputs": [],
   "source": []
  },
  {
   "cell_type": "code",
   "execution_count": null,
   "metadata": {},
   "outputs": [],
   "source": []
  },
  {
   "cell_type": "code",
   "execution_count": null,
   "metadata": {},
   "outputs": [],
   "source": []
  },
  {
   "cell_type": "code",
   "execution_count": null,
   "metadata": {},
   "outputs": [],
   "source": []
  },
  {
   "cell_type": "code",
   "execution_count": null,
   "metadata": {},
   "outputs": [],
   "source": []
  }
 ],
 "metadata": {
  "kernelspec": {
   "display_name": "Python 3",
   "language": "python",
   "name": "python3"
  },
  "language_info": {
   "codemirror_mode": {
    "name": "ipython",
    "version": 3
   },
   "file_extension": ".py",
   "mimetype": "text/x-python",
   "name": "python",
   "nbconvert_exporter": "python",
   "pygments_lexer": "ipython3",
   "version": "3.10.4 (main, Nov 29 2022, 20:00:25) [GCC 9.4.0]"
  },
  "orig_nbformat": 4,
  "vscode": {
   "interpreter": {
    "hash": "3ad933181bd8a04b432d3370b9dc3b0662ad032c4dfaa4e4f1596c548f763858"
   }
  }
 },
 "nbformat": 4,
 "nbformat_minor": 2
}
