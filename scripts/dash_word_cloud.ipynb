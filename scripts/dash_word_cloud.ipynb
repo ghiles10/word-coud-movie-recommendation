{
 "cells": [
  {
   "cell_type": "code",
   "execution_count": 1,
   "metadata": {},
   "outputs": [
    {
     "ename": "ModuleNotFoundError",
     "evalue": "No module named 'preprocess_for_ML_pyspark'",
     "output_type": "error",
     "traceback": [
      "\u001b[0;31m---------------------------------------------------------------------------\u001b[0m",
      "\u001b[0;31mModuleNotFoundError\u001b[0m                       Traceback (most recent call last)",
      "Cell \u001b[0;32mIn[1], line 8\u001b[0m\n\u001b[1;32m      6\u001b[0m \u001b[39mimport\u001b[39;00m \u001b[39mplotly\u001b[39;00m\u001b[39m.\u001b[39;00m\u001b[39mexpress\u001b[39;00m \u001b[39mas\u001b[39;00m \u001b[39mpx\u001b[39;00m\n\u001b[1;32m      7\u001b[0m \u001b[39mimport\u001b[39;00m \u001b[39mpandas\u001b[39;00m \u001b[39mas\u001b[39;00m \u001b[39mpd\u001b[39;00m\n\u001b[0;32m----> 8\u001b[0m \u001b[39mfrom\u001b[39;00m \u001b[39mpreprocess_for_ML_pyspark\u001b[39;00m \u001b[39mimport\u001b[39;00m word_cloud, recommandation, data\n\u001b[1;32m      9\u001b[0m \u001b[39mimport\u001b[39;00m \u001b[39mbase64\u001b[39;00m\n",
      "\u001b[0;31mModuleNotFoundError\u001b[0m: No module named 'preprocess_for_ML_pyspark'"
     ]
    }
   ],
   "source": [
    "import sys\n",
    "sys.path.append(r'.')\n",
    "import dash\n",
    "from dash import dcc, html , Output, Input\n",
    "from dash import html\n",
    "import plotly.express as px\n",
    "import pandas as pd\n",
    "from preprocess_for_ML_pyspark import word_cloud, recommandation, data\n",
    "import base64"
   ]
  },
  {
   "cell_type": "code",
   "execution_count": null,
   "metadata": {},
   "outputs": [],
   "source": [
    "# read data\n",
    "df = data\n",
    "\n",
    "# afin de pouvoir utiliser les fonctions de plotly\n",
    "df = df.toPandas()"
   ]
  },
  {
   "cell_type": "code",
   "execution_count": null,
   "metadata": {},
   "outputs": [],
   "source": [
    "# appel des fonctions afin de télécharger les fihciers nécéssaire à l'ui web\n",
    "word_cloud()\n",
    "recommandation()"
   ]
  },
  {
   "cell_type": "markdown",
   "metadata": {},
   "source": [
    "Graphique pour l'UI web"
   ]
  },
  {
   "cell_type": "code",
   "execution_count": null,
   "metadata": {},
   "outputs": [],
   "source": [
    "# Import the data for the first graph\n",
    "fig1 = px.histogram(df, x=\"duree\", title=\"Durée film\")\n",
    "\n",
    "image_filename = r\"./data/word_cloud.png\" \n",
    "encoded_image = base64.b64encode(open(image_filename, 'rb').read())\n",
    "\n",
    "image_acp = r\"./data/acp_k_means.png\" \n",
    "encoded_image_acp = base64.b64encode(open(image_acp, 'rb').read())\n",
    "\n",
    "# Import the data for the second graph\n",
    "df['date'] = pd.to_datetime(df['date'])\n",
    "df['month'] = df['date'].dt.month\n",
    "fig2 = px.histogram(df, x=\"month\", title=\"Mois de sortie du film\")"
   ]
  },
  {
   "cell_type": "code",
   "execution_count": 1,
   "metadata": {},
   "outputs": [
    {
     "ename": "NameError",
     "evalue": "name 'df' is not defined",
     "output_type": "error",
     "traceback": [
      "\u001b[0;31m---------------------------------------------------------------------------\u001b[0m",
      "\u001b[0;31mNameError\u001b[0m                                 Traceback (most recent call last)",
      "Cell \u001b[0;32mIn[1], line 9\u001b[0m\n\u001b[1;32m      6\u001b[0m     x[\u001b[39m'\u001b[39m\u001b[39mtype\u001b[39m\u001b[39m'\u001b[39m] \u001b[39m=\u001b[39m \u001b[39m'\u001b[39m\u001b[39m \u001b[39m\u001b[39m'\u001b[39m\u001b[39m.\u001b[39mjoin( x[\u001b[39m'\u001b[39m\u001b[39mtype\u001b[39m\u001b[39m'\u001b[39m]\u001b[39m.\u001b[39msplit( )[:\u001b[39m2\u001b[39m]) \n\u001b[1;32m      7\u001b[0m     \u001b[39mreturn\u001b[39;00m x \n\u001b[0;32m----> 9\u001b[0m df_type \u001b[39m=\u001b[39m df\u001b[39m.\u001b[39mapply(nettoyage_type, axis \u001b[39m=\u001b[39m \u001b[39m1\u001b[39m)\n\u001b[1;32m     10\u001b[0m fig3 \u001b[39m=\u001b[39m px\u001b[39m.\u001b[39mhistogram(df_type, x\u001b[39m=\u001b[39m\u001b[39m\"\u001b[39m\u001b[39mtype\u001b[39m\u001b[39m\"\u001b[39m, title\u001b[39m=\u001b[39m\u001b[39m\"\u001b[39m\u001b[39mType de film\u001b[39m\u001b[39m\"\u001b[39m)\n",
      "\u001b[0;31mNameError\u001b[0m: name 'df' is not defined"
     ]
    }
   ],
   "source": [
    "# Import the data for the third graph\n",
    "def nettoyage_type(x) : \n",
    "\n",
    "    \"\"\"nettoyage de la colonne type\"\"\"\n",
    "\n",
    "    x['type'] = ' '.join( x['type'].split( )[:2]) \n",
    "    return x \n",
    "\n",
    "df_type = df.apply(nettoyage_type, axis = 1)\n",
    "fig3 = px.histogram(df_type, x=\"type\", title=\"Type de film\")"
   ]
  },
  {
   "cell_type": "markdown",
   "metadata": {},
   "source": [
    "Application dash"
   ]
  },
  {
   "cell_type": "code",
   "execution_count": null,
   "metadata": {},
   "outputs": [],
   "source": [
    "# Initialize the app\n",
    "\n",
    "app = dash.Dash()\n",
    "\n",
    "title_options = list(df['titre'].unique())\n",
    "\n",
    "app.layout = html.Div([\n",
    "    html.H1('RECOMMANDATION DE FILM'),\n",
    "    html.P(\"\"\"Cette application permet de recommander des films en fonction de votre choix.\n",
    "    Une fois le film choisi, une nuage de mot apparaitra avec les mots les plus utilisés dans le synopsis du film.\n",
    "    Ensuite, une recommandation sera faite en fonction de la similarité des films.\n",
    "    Des statistiques sur l'ensemble de la base de données sont également disponibles.\"\"\"),\n",
    "\n",
    "    html.Div([\n",
    "        dcc.Dropdown(\n",
    "            id='title-dropdown',\n",
    "            options=[{'label': title, 'value': title} for title in title_options],\n",
    "            value=title_options[0]\n",
    "        ),\n",
    "        html.Div([\n",
    "            html.Div([\"Word Cloud\"], style={'text-align': 'center', 'font-size': '100'}),\n",
    "            html.Img(id='img',src='data:image/png;base64,{}'.format(encoded_image.decode()))\n",
    "        ],style={'display': 'inline-block', 'width': '100%', 'text-align': 'center'}),\n",
    "        html.Div([\n",
    "            html.Div([\"Recommendation : ACP + K-MEANS\"], style={'text-align': 'center', 'font-size': '100'}),\n",
    "            html.Img(id='img_acp',src='data:image/png;base64,{}'.format(encoded_image_acp.decode()))\n",
    "        ],style={'display': 'inline-block', 'width': '100%', 'text-align': 'center'}),\n",
    "        dcc.Graph(figure=fig1),\n",
    "        dcc.Graph(figure=fig2),\n",
    "        dcc.Graph(figure=fig3)\n",
    "    ], style={'column-count': 2})\n",
    "])\n",
    "\n",
    "\n",
    "#Create callback function\n",
    "@app.callback(Output('img', 'src'),\n",
    "              [Input('title-dropdown', 'value')])\n",
    "def update_image(title):\n",
    "\n",
    "    \"\"\" Update the image\"\"\"\n",
    "\n",
    "    word_cloud.word_cloud(title)\n",
    "    image_filename = r\"./data/word_cloud.png\"\n",
    "    encoded_image = base64.b64encode(open(image_filename, 'rb').read())\n",
    "    return 'data:image/png;base64,{}'.format(encoded_image.decode())\n",
    "\n",
    "# Run the app\n",
    "if __name__ == '__main__':\n",
    "    app.run_server(host='0.0.0.0')"
   ]
  }
 ],
 "metadata": {
  "kernelspec": {
   "display_name": "Python 3",
   "language": "python",
   "name": "python3"
  },
  "language_info": {
   "codemirror_mode": {
    "name": "ipython",
    "version": 3
   },
   "file_extension": ".py",
   "mimetype": "text/x-python",
   "name": "python",
   "nbconvert_exporter": "python",
   "pygments_lexer": "ipython3",
   "version": "3.10.4"
  },
  "orig_nbformat": 4,
  "vscode": {
   "interpreter": {
    "hash": "3ad933181bd8a04b432d3370b9dc3b0662ad032c4dfaa4e4f1596c548f763858"
   }
  }
 },
 "nbformat": 4,
 "nbformat_minor": 2
}
