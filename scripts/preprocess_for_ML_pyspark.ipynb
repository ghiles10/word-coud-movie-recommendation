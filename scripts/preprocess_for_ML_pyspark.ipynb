{
 "cells": [
  {
   "cell_type": "markdown",
   "metadata": {},
   "source": [
    "# Partie spark"
   ]
  },
  {
   "cell_type": "code",
   "execution_count": 12,
   "metadata": {},
   "outputs": [
    {
     "name": "stderr",
     "output_type": "stream",
     "text": [
      "[nltk_data] Downloading package stopwords to\n",
      "[nltk_data]     /home/codespace/nltk_data...\n",
      "[nltk_data]   Package stopwords is already up-to-date!\n"
     ]
    }
   ],
   "source": [
    "from pyspark.sql import functions as F  \n",
    "from pyspark.sql import SparkSession    \n",
    "from pyspark.sql.functions import col   \n",
    "import warnings \n",
    "import os\n",
    "warnings.filterwarnings(\"ignore\")\n",
    "from wordcloud import WordCloud\n",
    "import nltk\n",
    "nltk.download('stopwords')\n",
    "from nltk.corpus import stopwords \n",
    "from sklearn.decomposition import PCA\n",
    "from sklearn.preprocessing import StandardScaler\n",
    "from sklearn.cluster import KMeans\n",
    "import matplotlib.pyplot as plt \n",
    "import pandas as pd\n",
    "import numpy as np\n",
    "import dash\n",
    "from dash import dcc, html , Output, Input\n",
    "from dash import html\n",
    "import plotly.express as px\n",
    "import pandas as pd\n",
    "import base64"
   ]
  },
  {
   "cell_type": "markdown",
   "metadata": {},
   "source": [
    "Initialisation de la session spark "
   ]
  },
  {
   "cell_type": "code",
   "execution_count": 2,
   "metadata": {},
   "outputs": [
    {
     "name": "stdout",
     "output_type": "stream",
     "text": [
      "23/02/23 19:48:50 WARN Utils: Your hostname, codespaces-46969e resolves to a loopback address: 127.0.0.1; using 172.16.5.4 instead (on interface eth0)\n",
      "23/02/23 19:48:50 WARN Utils: Set SPARK_LOCAL_IP if you need to bind to another address\n"
     ]
    },
    {
     "name": "stderr",
     "output_type": "stream",
     "text": [
      "Setting default log level to \"WARN\".\n",
      "To adjust logging level use sc.setLogLevel(newLevel). For SparkR, use setLogLevel(newLevel).\n"
     ]
    },
    {
     "name": "stdout",
     "output_type": "stream",
     "text": [
      "23/02/23 19:48:53 WARN NativeCodeLoader: Unable to load native-hadoop library for your platform... using builtin-java classes where applicable\n",
      "initialisation de la session spark :  <pyspark.sql.session.SparkSession object at 0x7f6b9c2eb6d0> \n"
     ]
    }
   ],
   "source": [
    "#spark session \n",
    "spark_session = SparkSession.builder.appName('data_film').getOrCreate()\n",
    "print( f\"initialisation de la session spark :  {spark_session} \" )"
   ]
  },
  {
   "cell_type": "markdown",
   "metadata": {},
   "source": [
    "Lecture de la base de données"
   ]
  },
  {
   "cell_type": "code",
   "execution_count": 3,
   "metadata": {},
   "outputs": [
    {
     "name": "stdout",
     "output_type": "stream",
     "text": [
      "Base de données brute : \n",
      "--------------------------\n",
      "\n",
      "+--------------------+----------------+--------+--------------------+----+-----------+--------------------+\n",
      "|               titre|            date|   duree|                type|note|nombre avis|                avis|\n",
      "+--------------------+----------------+--------+--------------------+----+-----------+--------------------+\n",
      "|       The Fabelmans| 22 février 2023|2h 31min| ['Biopic', 'Drame']| 4.3|        133|['\\nC’est peut-êt...|\n",
      "|              Mayday| 25 janvier 2023|1h 48min|['Action', 'Thril...| 3.5|        208|['\\n\"Mayday\" est ...|\n",
      "|    La Famille Asada| 25 janvier 2023|2h 07min|         ['Comédie']| 4.1|        139|[\"\\nTrès bon mome...|\n",
      "|             Babylon| 18 janvier 2023|3h 09min|['Historique', 'D...| 4.2|        224|[\"\\nBabylonDans c...|\n",
      "|Le Retour des hir...|  8 février 2023|2h 13min|           ['Drame']| 4.1|         34|[\"\\nEn septembre ...|\n",
      "|        L'Astronaute| 15 février 2023|1h 50min|['Comédie dramati...| 4.0|         94|['\\nQuelle magnif...|\n",
      "|Les Banshees d'In...|28 décembre 2022|1h 54min|['Drame', 'Comédie']| 3.9|        309|['\\nAprès le trio...|\n",
      "|         Emmett Till|  8 février 2023|2h 10min| ['Biopic', 'Drame']| 3.7|         39|[\"\\nTrès beaux co...|\n",
      "|      Sacrées momies|  8 février 2023|1h 29min|['Animation', 'Fa...| 3.4|         26|['\\nBeaucoup dira...|\n",
      "|   Vaincre ou mourir| 25 janvier 2023|1h 40min|['Historique', 'A...| 4.0|        837|['\\nAgréable surp...|\n",
      "|         Alibi.com 2|  8 février 2023|1h 28min|         ['Comédie']| 4.0|        887|[\"\\nAprès avoir v...|\n",
      "|            Aftersun|  1 février 2023|1h 42min|           ['Drame']| 3.8|         97|[\"\\nUn père et sa...|\n",
      "|Maurice le chat f...|  1 février 2023|1h 33min|['Animation', 'Fa...| 2.8|         21|['\\nPrix du publi...|\n",
      "|                 Tár| 25 janvier 2023|2h 38min|['Drame', 'Musical']| 3.6|        225|[\"\\nMême en adora...|\n",
      "|La Femme de Tchaï...| 15 février 2023|2h 23min| ['Drame', 'Biopic']| 3.4|         61|['\\nPiotr Tchaïko...|\n",
      "|  Knock at the Cabin|  1 février 2023|1h 45min|        ['Thriller']| 2.9|        211|[\"\\nKnock at the ...|\n",
      "|        Juste ciel !| 15 février 2023|1h 26min|         ['Comédie']| 2.2|         46|['\\nUne comédie h...|\n",
      "|Le Pire voisin au...|  1 février 2023|2h 07min|['Comédie dramati...| 3.7|         99|['\\nOn rit d\\'un ...|\n",
      "|      Pour la France|  8 février 2023|1h 53min|           ['Drame']| 3.8|         89|['\\nLe deuxième l...|\n",
      "|         La Montagne|  1 février 2023|1h 52min|['Drame', 'Fantas...| 3.0|        119|['\\nSujet de cour...|\n",
      "+--------------------+----------------+--------+--------------------+----+-----------+--------------------+\n",
      "only showing top 20 rows\n",
      "\n",
      "None\n"
     ]
    }
   ],
   "source": [
    "\n",
    "data = spark_session.read.option(\"delimiter\", \"\\t\").csv(r'./data/data_film.txt', header=False)\n",
    "data = data.toDF('titre', 'date', 'duree', 'type', 'note', 'nombre avis', 'avis')\n",
    "\n",
    "print('Base de données brute : ')\n",
    "print(\"--------------------------\")\n",
    "print()\n",
    "print(data.show())\n"
   ]
  },
  {
   "attachments": {},
   "cell_type": "markdown",
   "metadata": {},
   "source": [
    "Traitement des variables"
   ]
  },
  {
   "cell_type": "code",
   "execution_count": 4,
   "metadata": {},
   "outputs": [
    {
     "name": "stdout",
     "output_type": "stream",
     "text": [
      "debut traitement des variables\n"
     ]
    }
   ],
   "source": [
    "\n",
    "print('debut traitement des variables')\n",
    "\n",
    "# traitment variable avis \n",
    "data = data.withColumn(\"avis\", F.regexp_replace(F.col(\"avis\"), \"[\\['\\\"0-9]\" , \"\"))\n",
    "\n",
    "# traitment de la variable type\n",
    "data = data.withColumn(\"type\", F.regexp_replace(F.col(\"type\"), \"[\\[\\]',]\", \"\"))\n",
    "\n",
    "# traitement variable heure : ne garder que l'heure pour des besoin de modélisation \n",
    "data = data.withColumn('duree', F.substring(\"duree\", 1, 1))\n"
   ]
  },
  {
   "cell_type": "markdown",
   "metadata": {},
   "source": [
    "Traitement des dates"
   ]
  },
  {
   "cell_type": "code",
   "execution_count": 5,
   "metadata": {},
   "outputs": [
    {
     "name": "stdout",
     "output_type": "stream",
     "text": [
      "traitement des dates\n"
     ]
    }
   ],
   "source": [
    "# encoder la variable date afin de passer du format francais a un format usuel  \n",
    "print('traitement des dates')\n",
    "\n",
    "data = data.withColumn(\"date\", F.regexp_replace('date','août', \"08\"))\n",
    "data = data.withColumn(\"date\", F.regexp_replace('date','avril', \"04\"))\n",
    "data = data.withColumn(\"date\", F.regexp_replace('date','décembre', \"12\"))\n",
    "data = data.withColumn(\"date\", F.regexp_replace('date','février', \"02\"))\n",
    "data = data.withColumn(\"date\", F.regexp_replace('date','janvier', \"01\"))\n",
    "data = data.withColumn(\"date\", F.regexp_replace('date','juillet', \"07\"))\n",
    "data = data.withColumn(\"date\", F.regexp_replace('date','juin', \"06\"))\n",
    "data = data.withColumn(\"date\", F.regexp_replace('date','mai', \"05\"))\n",
    "data = data.withColumn(\"date\", F.regexp_replace('date','novembre', \"11\"))\n",
    "data = data.withColumn(\"date\", F.regexp_replace('date','octobre', \"10\"))\n",
    "data = data.withColumn(\"date\", F.regexp_replace('date','septembre', \"09\"))\n",
    "\n",
    "# changer le format des dates  \n",
    "spark_session.conf.set(\"spark.sql.legacy.timeParserPolicy\", \"LEGACY\") # car ne veut pas reconnaitre le format de base\n",
    "data = data.withColumn(\"date\", F.to_date(\"date\", \"dd MM yyyy\"))\n"
   ]
  },
  {
   "cell_type": "markdown",
   "metadata": {},
   "source": [
    "# Word cloud"
   ]
  },
  {
   "cell_type": "code",
   "execution_count": 6,
   "metadata": {},
   "outputs": [],
   "source": [
    "def word_cloud(title = 'Babylon', df = data) :\n",
    "\n",
    "    \"\"\" fonction qui permet de créer un word cloud à partir des avis des films \"\"\"\n",
    "\n",
    "    # stop word \n",
    "    stop_words = set(stopwords.words('french'))\n",
    "    \n",
    "    # ajout des mots vides\n",
    "    mots_vides = [\"film\", \"\\n\",\"plus\",\"a\",\"sans\",\"dans\",\"sans\",\"cette\",'cet', \"jour\",\"encore\",\"fait\",\"comme\",\"un\",\"très\", \"tous\",\"tout\",\"cest\",\"si\",\n",
    "    \"cela\", 'peut',  \"être\", \"aussi\", \"mais\",\"par\",\"dont\", \"moi\", \"il\", \"toi\", 'ils', \"les\",'quoi', \"ca\"] \n",
    "    stop_words.update(mots_vides) \n",
    "\n",
    "    # Filter the dataframe by title\n",
    "    df = df.filter(df.titre == title)\n",
    "\n",
    "    # Concatenate the 'avis' column values into a single string\n",
    "    avis_string = ' '.join(df.select(\"avis\").rdd.flatMap(lambda x: x).collect())\n",
    "\n",
    "    # Définir le calque du nuage des mots\n",
    "    wc = WordCloud(background_color=\"black\", max_words=30, stopwords=stop_words, max_font_size=100, random_state=42)\n",
    "    wc.generate(avis_string)  # \"Calcul\" du wordcloud\n",
    "\n",
    "    # Obtenir un objet Image à partir de wc\n",
    "    image = wc.to_image()\n",
    "    # Enregistrer l'image en utilisant la méthode save de l'objet Image\n",
    "\n",
    "    if not os.path.exists(\"./data\"):\n",
    "        os.mkdir(\"./data\") \n",
    "\n",
    "    image.save(r'./data/word_cloud.png') \n",
    "\n",
    "    return wc.words_ \n"
   ]
  },
  {
   "cell_type": "markdown",
   "metadata": {},
   "source": [
    "# Recommandation"
   ]
  },
  {
   "cell_type": "code",
   "execution_count": 9,
   "metadata": {},
   "outputs": [],
   "source": [
    "def recommandation(df = data):\n",
    "\n",
    "    \"\"\" this function is used to make a recommandation of film to the user \"\"\"\n",
    "\n",
    "\n",
    "    # read df \n",
    "\n",
    "    df = data.toPandas()\n",
    "    df1= df[['titre']]\n",
    "    df['date'] = pd.to_datetime(df['date'])\n",
    "    df['month'] = df['date'].dt.month\n",
    "    df = df[['note', 'nombre avis', 'duree', 'month']]\n",
    "\n",
    "    # Standrad scaler for ACP \n",
    "    sc = StandardScaler()\n",
    "\n",
    "    # normalistion du jeu de donnée\n",
    "    X_normalise = sc.fit_transform(df)\n",
    "\n",
    "    # réalisation de l'ACP\n",
    "    acp = PCA() \n",
    "    acp.fit(X_normalise)\n",
    "    new_columns = acp.transform(X_normalise) # Calculer les nouvelles colonnes obtenues par l'acp\n",
    "\n",
    "    # Création d'un dataframe contenant 3 colonnes ( variable / correlation axe1 / correlation ax2)\n",
    "\n",
    "    n,p = X_normalise.shape # nb individus  # nb variables\n",
    "    eigval = ((n-1) / n) * acp.explained_variance_ # valeurs propres\n",
    "    sqrt_eigval = np.sqrt(eigval) # racine carrée des valeurs propres\n",
    "    corvar = np.zeros((p,p)) # matrice vide pour avoir les coordonnées\n",
    "    for k in range(p):\n",
    "        corvar[:,k] = acp.components_[k,:] * sqrt_eigval[k]\n",
    "\n",
    "    #kmeans afin d'afficher les films similaires\n",
    "    km = KMeans(n_clusters=3).fit(X_normalise)\n",
    "    preds = km.predict(X_normalise) # predictions pour chaque observation son cluster d'appartenance\n",
    "    df['cluster'] = preds \n",
    "\n",
    "    # Representer graphiquement les departements sur les deux premieres composante de l'acp\n",
    "    plt.scatter(new_columns[:, 0], new_columns[:, 1])\n",
    "    colors = ['yellow','red','green']\n",
    "    for label, x, y,c in zip(df1['titre'].str.strip().values, new_columns[:, 0], new_columns[:, 1],df['cluster']):\n",
    "        plt.annotate(\n",
    "            label,\n",
    "            xy=(x, y), xytext=(-5, 5),\n",
    "            textcoords='offset points', ha='right', va='bottom',\n",
    "            bbox=dict(boxstyle='round,pad=0.5', fc=colors[c], alpha=0.5),\n",
    "            arrowprops = dict(arrowstyle='->', connectionstyle='arc3,rad=0'))\n",
    "\n",
    "    if not os.path.exists(\"./data\"):\n",
    "        os.mkdir(\"./data\") \n",
    "\n",
    "    # save image matplotlib \n",
    "    plt.savefig(r'./data/acp_k_means.png')"
   ]
  },
  {
   "cell_type": "markdown",
   "metadata": {},
   "source": [
    "# Partie UI web"
   ]
  },
  {
   "cell_type": "code",
   "execution_count": 10,
   "metadata": {},
   "outputs": [],
   "source": [
    "# afin de pouvoir utiliser les fonctions de plotly\n",
    "\n",
    "df = data\n",
    "df = df.toPandas()"
   ]
  },
  {
   "cell_type": "code",
   "execution_count": 13,
   "metadata": {},
   "outputs": [
    {
     "name": "stderr",
     "output_type": "stream",
     "text": [
      "                                                                                \r"
     ]
    },
    {
     "data": {
      "text/plain": [
       "{'cinéma': 1.0,\n",
       " 'scène': 0.7272727272727273,\n",
       " 'ça': 0.5909090909090909,\n",
       " 'heure': 0.5909090909090909,\n",
       " 'Babylon': 0.5454545454545454,\n",
       " 'année': 0.5,\n",
       " 'bien': 0.45454545454545453,\n",
       " 'trop': 0.45454545454545453,\n",
       " 'peu': 0.4090909090909091,\n",
       " 'personnage': 0.36363636363636365,\n",
       " 'Hollywood': 0.36363636363636365,\n",
       " 'Chazelle': 0.36363636363636365,\n",
       " 'Margot Robbie': 0.36363636363636365,\n",
       " 'histoire': 0.3181818181818182,\n",
       " 'toute': 0.3181818181818182,\n",
       " 'rien': 0.2727272727272727,\n",
       " 'moins': 0.2727272727272727,\n",
       " 'mal': 0.2727272727272727,\n",
       " 'autre': 0.2727272727272727,\n",
       " 'faire': 0.2727272727272727,\n",
       " 'musique': 0.2727272727272727,\n",
       " 'dire': 0.2727272727272727,\n",
       " 'montage': 0.2727272727272727,\n",
       " 'grande': 0.2727272727272727,\n",
       " 'dun': 0.2727272727272727,\n",
       " 'déjà': 0.2727272727272727,\n",
       " 'Brad Pitt': 0.2727272727272727,\n",
       " 'Damien Chazelle': 0.2727272727272727,\n",
       " 'autant': 0.22727272727272727,\n",
       " 'débauche': 0.22727272727272727}"
      ]
     },
     "execution_count": 13,
     "metadata": {},
     "output_type": "execute_result"
    }
   ],
   "source": [
    "# appel des fonctions afin de télécharger les fihciers nécéssaire à l'ui web\n",
    "word_cloud()\n"
   ]
  },
  {
   "cell_type": "code",
   "execution_count": 14,
   "metadata": {},
   "outputs": [
    {
     "data": {
      "image/png": "[encoded data removed]",
      "text/plain": [
       "<Figure size 640x480 with 1 Axes>"
      ]
     },
     "metadata": {},
     "output_type": "display_data"
    }
   ],
   "source": [
    "recommandation()"
   ]
  },
  {
   "cell_type": "markdown",
   "metadata": {},
   "source": [
    "Graphique pour l'ui web"
   ]
  },
  {
   "cell_type": "code",
   "execution_count": 15,
   "metadata": {},
   "outputs": [],
   "source": [
    "# Import the data for the first graph\n",
    "fig1 = px.histogram(df, x=\"duree\", title=\"Durée film\")\n",
    "\n",
    "image_filename = r\"./data/word_cloud.png\" \n",
    "encoded_image = base64.b64encode(open(image_filename, 'rb').read())\n",
    "\n",
    "image_acp = r\"./data/acp_k_means.png\" \n",
    "encoded_image_acp = base64.b64encode(open(image_acp, 'rb').read())\n",
    "\n",
    "# Import the data for the second graph\n",
    "df['date'] = pd.to_datetime(df['date'])\n",
    "df['month'] = df['date'].dt.month\n",
    "fig2 = px.histogram(df, x=\"month\", title=\"Mois de sortie du film\")"
   ]
  },
  {
   "cell_type": "code",
   "execution_count": 16,
   "metadata": {},
   "outputs": [],
   "source": [
    "# Import the data for the third graph\n",
    "def nettoyage_type(x) : \n",
    "\n",
    "    \"\"\"nettoyage de la colonne type\"\"\"\n",
    "\n",
    "    x['type'] = ' '.join( x['type'].split( )[:2]) \n",
    "    return x \n",
    "\n",
    "df_type = df.apply(nettoyage_type, axis = 1)\n",
    "fig3 = px.histogram(df_type, x=\"type\", title=\"Type de film\")"
   ]
  },
  {
   "cell_type": "markdown",
   "metadata": {},
   "source": [
    "Apllication dash"
   ]
  },
  {
   "cell_type": "code",
   "execution_count": 18,
   "metadata": {},
   "outputs": [
    {
     "name": "stdout",
     "output_type": "stream",
     "text": [
      "Dash is running on http://0.0.0.0:8050/\n",
      "\n",
      "Dash is running on http://0.0.0.0:8050/\n",
      "\n",
      " * Serving Flask app '__main__'\n",
      " * Debug mode: off\n"
     ]
    },
    {
     "name": "stderr",
     "output_type": "stream",
     "text": [
      "WARNING: This is a development server. Do not use it in a production deployment. Use a production WSGI server instead.\n",
      " * Running on all addresses (0.0.0.0)\n",
      " * Running on http://127.0.0.1:8050\n",
      " * Running on http://172.16.5.4:8050\n",
      "Press CTRL+C to quit\n",
      "127.0.0.1 - - [23/Feb/2023 19:53:22] \"GET / HTTP/1.1\" 200 -\n",
      "127.0.0.1 - - [23/Feb/2023 19:53:22] \"GET /_dash-layout HTTP/1.1\" 200 -\n",
      "127.0.0.1 - - [23/Feb/2023 19:53:22] \"GET /_dash-dependencies HTTP/1.1\" 200 -\n",
      "127.0.0.1 - - [23/Feb/2023 19:53:22] \"GET /_favicon.ico?v=2.8.1 HTTP/1.1\" 200 -\n",
      "127.0.0.1 - - [23/Feb/2023 19:53:23] \"GET /_dash-component-suites/dash/dcc/async-graph.js HTTP/1.1\" 304 -\n",
      "127.0.0.1 - - [23/Feb/2023 19:53:23] \"GET /_dash-component-suites/dash/dcc/async-dropdown.js HTTP/1.1\" 304 -\n",
      "127.0.0.1 - - [23/Feb/2023 19:53:23] \"GET /_dash-component-suites/dash/dcc/async-plotlyjs.js HTTP/1.1\" 304 -\n",
      "127.0.0.1 - - [23/Feb/2023 19:53:23] \"POST /_dash-update-component HTTP/1.1\" 200 -\n",
      "127.0.0.1 - - [23/Feb/2023 19:53:25] \"POST /_dash-update-component HTTP/1.1\" 200 -\n",
      "127.0.0.1 - - [23/Feb/2023 19:53:28] \"POST /_dash-update-component HTTP/1.1\" 200 -\n",
      "127.0.0.1 - - [23/Feb/2023 19:53:31] \"POST /_dash-update-component HTTP/1.1\" 200 -\n",
      "127.0.0.1 - - [23/Feb/2023 19:53:33] \"POST /_dash-update-component HTTP/1.1\" 200 -\n",
      "127.0.0.1 - - [23/Feb/2023 19:53:36] \"POST /_dash-update-component HTTP/1.1\" 200 -\n"
     ]
    }
   ],
   "source": [
    "# Initialize the app\n",
    "\n",
    "app = dash.Dash()\n",
    "\n",
    "title_options = list(df['titre'].unique())\n",
    "\n",
    "app.layout = html.Div([\n",
    "    html.H1('RECOMMANDATION DE FILM'),\n",
    "    html.P(\"\"\"Cette application permet de recommander des films en fonction de votre choix.\n",
    "    Une fois le film choisi, une nuage de mot apparaitra avec les mots les plus utilisés dans le synopsis du film.\n",
    "    Ensuite, une recommandation sera faite en fonction de la similarité des films.\n",
    "    Des statistiques sur l'ensemble de la base de données sont également disponibles.\"\"\"),\n",
    "\n",
    "    html.Div([\n",
    "        dcc.Dropdown(\n",
    "            id='title-dropdown',\n",
    "            options=[{'label': title, 'value': title} for title in title_options],\n",
    "            value=title_options[0]\n",
    "        ),\n",
    "        html.Div([\n",
    "            html.Div([\"Word Cloud\"], style={'text-align': 'center', 'font-size': '100'}),\n",
    "            html.Img(id='img',src='data:image/png;base64,{}'.format(encoded_image.decode()))\n",
    "        ],style={'display': 'inline-block', 'width': '100%', 'text-align': 'center'}),\n",
    "        html.Div([\n",
    "            html.Div([\"Recommendation : ACP + K-MEANS\"], style={'text-align': 'center', 'font-size': '100'}),\n",
    "            html.Img(id='img_acp',src='data:image/png;base64,{}'.format(encoded_image_acp.decode()))\n",
    "        ],style={'display': 'inline-block', 'width': '100%', 'text-align': 'center'}),\n",
    "        dcc.Graph(figure=fig1),\n",
    "        dcc.Graph(figure=fig2),\n",
    "        dcc.Graph(figure=fig3)\n",
    "    ], style={'column-count': 2})\n",
    "])\n",
    "\n",
    "\n",
    "#Create callback function\n",
    "@app.callback(Output('img', 'src'),\n",
    "              [Input('title-dropdown', 'value')])\n",
    "def update_image(title):\n",
    "\n",
    "    \"\"\" Update the image\"\"\"\n",
    "\n",
    "    word_cloud(title)\n",
    "    image_filename = r\"./data/word_cloud.png\"\n",
    "    encoded_image = base64.b64encode(open(image_filename, 'rb').read())\n",
    "    return 'data:image/png;base64,{}'.format(encoded_image.decode())\n",
    "\n",
    "# Run the app\n",
    "if __name__ == '__main__':\n",
    "    app.run_server(host='0.0.0.0')"
   ]
  },
  {
   "cell_type": "code",
   "execution_count": null,
   "metadata": {},
   "outputs": [],
   "source": []
  },
  {
   "cell_type": "code",
   "execution_count": null,
   "metadata": {},
   "outputs": [],
   "source": []
  }
 ],
 "metadata": {
  "kernelspec": {
   "display_name": "Python 3",
   "language": "python",
   "name": "python3"
  },
  "language_info": {
   "codemirror_mode": {
    "name": "ipython",
    "version": 3
   },
   "file_extension": ".py",
   "mimetype": "text/x-python",
   "name": "python",
   "nbconvert_exporter": "python",
   "pygments_lexer": "ipython3",
   "version": "3.10.4"
  },
  "orig_nbformat": 4,
  "vscode": {
   "interpreter": {
    "hash": "3ad933181bd8a04b432d3370b9dc3b0662ad032c4dfaa4e4f1596c548f763858"
   }
  }
 },
 "nbformat": 4,
 "nbformat_minor": 2
}
